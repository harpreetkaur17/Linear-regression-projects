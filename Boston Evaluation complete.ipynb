{
 "cells": [
  {
   "cell_type": "code",
   "execution_count": 1,
   "metadata": {},
   "outputs": [],
   "source": [
    "from sklearn.datasets import load_boston\n",
    "from sklearn.linear_model import LinearRegression\n",
    "from sklearn.metrics import mean_squared_error\n",
    "\n",
    "import pandas as pd\n",
    "import numpy as np"
   ]
  },
  {
   "cell_type": "code",
   "execution_count": 2,
   "metadata": {},
   "outputs": [],
   "source": [
    "boston_dataset=load_boston()"
   ]
  },
  {
   "cell_type": "code",
   "execution_count": 3,
   "metadata": {},
   "outputs": [],
   "source": [
    "data=pd.DataFrame(data=boston_dataset.data , columns=boston_dataset.feature_names)"
   ]
  },
  {
   "cell_type": "code",
   "execution_count": 4,
   "metadata": {},
   "outputs": [],
   "source": [
    "# as earlier we found they were not required so removing \n",
    "features=data.drop(['INDUS','AGE'], axis=1)\n",
    "log_price=np.log(boston_dataset.target)\n",
    "target=pd.DataFrame(log_price,columns=['PRICE'])"
   ]
  },
  {
   "cell_type": "code",
   "execution_count": 17,
   "metadata": {},
   "outputs": [
    {
     "data": {
      "text/plain": [
       "(1, 11)"
      ]
     },
     "execution_count": 17,
     "metadata": {},
     "output_type": "execute_result"
    }
   ],
   "source": [
    "# now as few thing people will check while calculating the price estimate so we will \n",
    "#create an array of mean values as for the rest values that mean value will be considered\n",
    "\n",
    "#property_stats if we create will be a series as featres.mean() is a series \n",
    "#and series has a attribute called value which is an array\n",
    "# to create it a 2d array\n",
    "property_stats=features.mean().values.reshape(1,11)\n",
    "\n"
   ]
  },
  {
   "cell_type": "code",
   "execution_count": 21,
   "metadata": {},
   "outputs": [],
   "source": [
    "# calculting the linear regression \n",
    "# perdict return nd array\n",
    "\n",
    "regr=LinearRegression()\n",
    "regr.fit(features,target)\n",
    "fitted_values=regr.predict(features)\n",
    "\n",
    "# MSE and RMSE\n",
    "MSE = mean_squared_error(target, fitted_values)\n",
    "RMSE = np.sqrt(MSE)\n"
   ]
  },
  {
   "cell_type": "code",
   "execution_count": 23,
   "metadata": {},
   "outputs": [
    {
     "data": {
      "text/plain": [
       "(506, 1)"
      ]
     },
     "execution_count": 23,
     "metadata": {},
     "output_type": "execute_result"
    }
   ],
   "source": [
    "fitted_values.shape"
   ]
  },
  {
   "cell_type": "code",
   "execution_count": 30,
   "metadata": {},
   "outputs": [
    {
     "data": {
      "text/plain": [
       "(506, 11)"
      ]
     },
     "execution_count": 30,
     "metadata": {},
     "output_type": "execute_result"
    }
   ],
   "source": [
    "features.shape"
   ]
  },
  {
   "cell_type": "code",
   "execution_count": 27,
   "metadata": {},
   "outputs": [
    {
     "data": {
      "text/plain": [
       "array([[3.03451287]])"
      ]
     },
     "execution_count": 27,
     "metadata": {},
     "output_type": "execute_result"
    }
   ],
   "source": [
    "regr.predict(property_stats)"
   ]
  },
  {
   "cell_type": "code",
   "execution_count": 29,
   "metadata": {},
   "outputs": [],
   "source": [
    "# features we areeh user for now to perdict ,\n",
    "#rest fetures will take up the mean values this is used to chnge the array we created property_stats\n",
    "\n",
    "CRIME_IDX = 0\n",
    "ZN_IDX = 1\n",
    "CHAS_IDX = 2\n",
    "RM_IDX = 4\n",
    "PTRATIO_IDX = 8"
   ]
  },
  {
   "cell_type": "code",
   "execution_count": 31,
   "metadata": {},
   "outputs": [],
   "source": [
    "def get_log_estimate(nr_rooms,\n",
    "                    students_per_classroom,\n",
    "                    next_to_river=False,\n",
    "                    high_confidence=True):\n",
    "    # Configure property\n",
    "    property_stats[0][RM_IDX] = nr_rooms\n",
    "    property_stats[0][PTRATIO_IDX] = students_per_classroom\n",
    "    \n",
    "    if next_to_river:\n",
    "        property_stats[0][CHAS_IDX] = 1\n",
    "    else:\n",
    "        property_stats[0][CHAS_IDX] = 0\n",
    "     # Make prediction\n",
    "    log_estimate = regr.predict(property_stats)[0][0]\n",
    "    \n",
    "    # Calc Range \n",
    "    if high_confidence:\n",
    "        upper_bound = log_estimate + 2*RMSE\n",
    "        lower_bound = log_estimate - 2*RMSE\n",
    "        interval = 95\n",
    "    else:\n",
    "        upper_bound = log_estimate + RMSE\n",
    "        lower_bound = log_estimate - RMSE\n",
    "        interval = 68\n",
    "    \n",
    "    return log_estimate, upper_bound, lower_bound, interval\n",
    "    "
   ]
  },
  {
   "cell_type": "code",
   "execution_count": 33,
   "metadata": {},
   "outputs": [],
   "source": [
    "# median of the data set \n",
    "np.median(boston_dataset.target)\n",
    "\n",
    "# current median in gen as searched from internet 583.3\n",
    "# converting the price rate of 1970 to current as dollar rates have changed\n",
    "\n",
    "ZILLOW_MEDIAN_PRICE = 583.3\n",
    "SCALE_FACTOR = ZILLOW_MEDIAN_PRICE / np.median(boston_dataset.target)"
   ]
  },
  {
   "cell_type": "code",
   "execution_count": 34,
   "metadata": {},
   "outputs": [],
   "source": [
    "# creating a function which will convert the scalefactor and give the actual price and range\n",
    "\n",
    "def get_dollar_estimate(rm, ptratio, chas=False, large_range=True):\n",
    "    \"\"\"Estimate the price of a property in Boston.\n",
    "    \n",
    "    Keyword arguments:\n",
    "    rm -- number of rooms in the property.\n",
    "    ptratio -- number of students per teacher in the classroom for the school in the area.\n",
    "    chas -- True if the property is next to the river, False otherwise.\n",
    "    large_range -- True for a 95% prediction interval, False for a 68% interval.\n",
    "    \n",
    "    \"\"\"\n",
    "    \n",
    "    \n",
    "    if rm < 1 or ptratio < 1:\n",
    "        print('That is unrealistic. Try again.')\n",
    "        return\n",
    "\n",
    "    log_est, upper, lower, conf = get_log_estimate(rm, \n",
    "                                                   students_per_classroom=ptratio, \n",
    "                                                   next_to_river=chas, \n",
    "                                                   high_confidence=large_range)\n",
    "\n",
    "    # Convert to today's dollars\n",
    "    dollar_est = np.e**log_est * 1000 * SCALE_FACTOR\n",
    "    dollar_hi = np.e**upper * 1000 * SCALE_FACTOR\n",
    "    dollar_low = np.e**lower * 1000 * SCALE_FACTOR\n",
    "\n",
    "    # Round the dollar values to nearest thousand\n",
    "    rounded_est = np.around(dollar_est, -3)\n",
    "    rounded_hi = np.around(dollar_hi, -3)\n",
    "    rounded_low = np.around(dollar_low, -3)\n",
    "\n",
    "    print(f'The estimated property value is {rounded_est}.')\n",
    "    print(f'At {conf}% confidence the valuation range is')\n",
    "    print(f'USD {rounded_low} at the lower end to USD {rounded_hi} at the high end.')"
   ]
  },
  {
   "cell_type": "code",
   "execution_count": 35,
   "metadata": {},
   "outputs": [
    {
     "name": "stdout",
     "output_type": "stream",
     "text": [
      "That is unrealistic. Try again.\n"
     ]
    }
   ],
   "source": [
    "get_dollar_estimate(rm=6, ptratio=-60, chas=True)"
   ]
  },
  {
   "cell_type": "code",
   "execution_count": 37,
   "metadata": {},
   "outputs": [
    {
     "name": "stdout",
     "output_type": "stream",
     "text": [
      "The estimated property value is 783000.0.\n",
      "At 95% confidence the valuation range is\n",
      "USD 538000.0 at the lower end to USD 1139000.0 at the high end.\n"
     ]
    }
   ],
   "source": [
    "get_dollar_estimate(6, 12, True)"
   ]
  },
  {
   "cell_type": "code",
   "execution_count": null,
   "metadata": {},
   "outputs": [],
   "source": []
  }
 ],
 "metadata": {
  "kernelspec": {
   "display_name": "Python 3",
   "language": "python",
   "name": "python3"
  },
  "language_info": {
   "codemirror_mode": {
    "name": "ipython",
    "version": 3
   },
   "file_extension": ".py",
   "mimetype": "text/x-python",
   "name": "python",
   "nbconvert_exporter": "python",
   "pygments_lexer": "ipython3",
   "version": "3.7.4"
  }
 },
 "nbformat": 4,
 "nbformat_minor": 2
}
